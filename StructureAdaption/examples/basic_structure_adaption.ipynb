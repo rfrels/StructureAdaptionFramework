{
 "cells": [
  {
   "cell_type": "markdown",
   "source": [
    "StructureAdaptionFramework: a framework for handling neuron-level and layer-level structure adaptions in\n",
    "neural networks.\n",
    "\n",
    "Copyright (C) 2023  Roman Frels, roman.frels@gmail.com\n",
    "\n",
    "This program is free software: you can redistribute it and/or modify\n",
    "it under the terms of the GNU Affero General Public License as published by\n",
    "the Free Software Foundation, version 3 of the License.\n",
    "\n",
    "This program is distributed in the hope that it will be useful,\n",
    "but WITHOUT ANY WARRANTY; without even the implied warranty of\n",
    "MERCHANTABILITY or FITNESS FOR A PARTICULAR PURPOSE.  See the\n",
    "GNU Affero General Public License for more details.\n",
    "\n",
    "You should have received a copy of the GNU Affero General Public License\n",
    "along with this program.  If not, see <https://www.gnu.org/licenses/>."
   ],
   "metadata": {
    "collapsed": false
   }
  },
  {
   "cell_type": "markdown",
   "source": [
    "# Basic structure adaption example\n",
    "\n",
    "This is an example for the basic functionality of the structure adaption framework.\n",
    "This example includes:\n",
    "    - adding and removing neurons\n",
    "    - adding and removing layers sequentially\n",
    "\n",
    "To understand the caveats arising in combination with training, see the training focused examples."
   ],
   "metadata": {
    "collapsed": false
   }
  },
  {
   "cell_type": "code",
   "execution_count": 1,
   "outputs": [
    {
     "name": "stderr",
     "output_type": "stream",
     "text": [
      "2023-08-27 18:25:58.006303: W tensorflow/stream_executor/platform/default/dso_loader.cc:64] Could not load dynamic library 'libcudart.so.11.0'; dlerror: libcudart.so.11.0: cannot open shared object file: No such file or directory\n",
      "2023-08-27 18:25:58.006332: I tensorflow/stream_executor/cuda/cudart_stub.cc:29] Ignore above cudart dlerror if you do not have a GPU set up on your machine.\n"
     ]
    }
   ],
   "source": [
    "import tensorflow as tf\n",
    "import StructureAdaption.structure_adaption as structure_adaption\n",
    "import numpy as np"
   ],
   "metadata": {
    "collapsed": false,
    "ExecuteTime": {
     "start_time": "2023-08-27T18:25:57.383183Z",
     "end_time": "2023-08-27T18:26:00.956023Z"
    }
   }
  },
  {
   "cell_type": "markdown",
   "source": [
    "First we define our model to work on. It's a simple dense network. "
   ],
   "metadata": {
    "collapsed": false
   }
  },
  {
   "cell_type": "code",
   "execution_count": 2,
   "outputs": [],
   "source": [
    "def example_model():\n",
    "    inputs = tf.keras.Input(shape=[10], dtype=tf.dtypes.float32, name='x0')\n",
    "    x1 = tf.keras.layers.Dense(units=6, activation='relu', name='x1')(inputs)\n",
    "    x2 = tf.keras.layers.Dense(units=2, activation='relu', name='x2')(x1)\n",
    "    x3 = tf.keras.layers.Dense(units=4, activation='relu', name='x3')(x2)\n",
    "    outputs = tf.keras.layers.Softmax(name='x4')(x3)\n",
    "    return tf.keras.Model(inputs=inputs, outputs=outputs)"
   ],
   "metadata": {
    "collapsed": false,
    "ExecuteTime": {
     "start_time": "2023-08-27T18:26:00.961982Z",
     "end_time": "2023-08-27T18:26:00.966782Z"
    }
   }
  },
  {
   "cell_type": "markdown",
   "source": [
    "In order to use the model with the framework we need to parse it. We get a wrapped model that we use from now on. The internally wrapped model is still accessible via `parsed_model.internal_model`. Furthermore, we retrieve the tuples of layers that can be grown or pruned. A tuple consists of a first layer where neurons are removed or added, possibly intermediate layers that preserve the output dimension and a lst layer where the inputs need to be adjusted accordingly.\n",
    "A compile function must be defined to bring the model into a valid state after an adaption. Note in the summary that the two dense layers get the type of a dynamically created class (mixin) used to expand their functionality."
   ],
   "metadata": {
    "collapsed": false
   }
  },
  {
   "cell_type": "code",
   "execution_count": 3,
   "outputs": [
    {
     "name": "stdout",
     "output_type": "stream",
     "text": [
      "DEBUG structure_adaption.py:722: Registered not supported layer: x0\n",
      "DEBUG structure_adaption.py:719: Registered supported layer: x1\n",
      "DEBUG structure_adaption.py:719: Registered supported layer: x2\n",
      "DEBUG structure_adaption.py:719: Registered supported layer: x3\n",
      "DEBUG structure_adaption.py:722: Registered not supported layer: x4\n",
      "DEBUG structure_adaption.py:449: current node: x0\n",
      "DEBUG structure_adaption.py:449: current node: x1\n",
      "DEBUG structure_adaption.py:449: current node: x2\n",
      "DEBUG structure_adaption.py:449: current node: x3\n",
      "DEBUG structure_adaption.py:449: current node: x4\n",
      "number of grow prun tuples: 2\n",
      "Model: \"model\"\n",
      "_________________________________________________________________\n",
      " Layer (type)                Output Shape              Param #   \n",
      "=================================================================\n",
      " x0 (InputLayer)             [(None, 10)]              0         \n",
      "                                                                 \n",
      " x1 (AdaptionLayer)          (None, 6)                 66        \n",
      "                                                                 \n",
      " x2 (AdaptionLayer)          (None, 2)                 14        \n",
      "                                                                 \n",
      " x3 (AdaptionLayer)          (None, 4)                 12        \n",
      "                                                                 \n",
      " x4 (Softmax)                (None, 4)                 0         \n",
      "                                                                 \n",
      "=================================================================\n",
      "Total params: 92\n",
      "Trainable params: 92\n",
      "Non-trainable params: 0\n",
      "_________________________________________________________________\n"
     ]
    },
    {
     "name": "stderr",
     "output_type": "stream",
     "text": [
      "2023-08-27 18:26:00.995071: W tensorflow/stream_executor/platform/default/dso_loader.cc:64] Could not load dynamic library 'libcuda.so.1'; dlerror: libcuda.so.1: cannot open shared object file: No such file or directory\n",
      "2023-08-27 18:26:00.995103: W tensorflow/stream_executor/cuda/cuda_driver.cc:269] failed call to cuInit: UNKNOWN ERROR (303)\n",
      "2023-08-27 18:26:00.995133: I tensorflow/stream_executor/cuda/cuda_diagnostics.cc:156] kernel driver does not appear to be running on this host (rome): /proc/driver/nvidia/version does not exist\n",
      "2023-08-27 18:26:00.995446: I tensorflow/core/platform/cpu_feature_guard.cc:151] This TensorFlow binary is optimized with oneAPI Deep Neural Network Library (oneDNN) to use the following CPU instructions in performance-critical operations:  AVX2 FMA\n",
      "To enable them in other operations, rebuild TensorFlow with the appropriate compiler flags.\n"
     ]
    }
   ],
   "source": [
    "base_model = example_model()\n",
    "parsed_model = structure_adaption.parse_model(base_model)\n",
    "gp_tuples = parsed_model.grow_prun_tuples\n",
    "print('number of grow prun tuples: ' + str(len(gp_tuples)))\n",
    "\n",
    "def compile_fn():\n",
    "    parsed_model(tf.keras.Input((10)))\n",
    "\n",
    "parsed_model.summary()"
   ],
   "metadata": {
    "collapsed": false,
    "ExecuteTime": {
     "start_time": "2023-08-27T18:26:00.969759Z",
     "end_time": "2023-08-27T18:26:01.238270Z"
    }
   }
  },
  {
   "cell_type": "markdown",
   "source": [
    "As you can see from the summary we have three adaption layers with 18, 14 and 16 neurons respectively. Let's say we want them all to have 16 neurons. Coincidentally we have two tuples that can be used to change the number of neurons in the first two dense layers. Tuples can only be formed with layers in the `SupportedLayersConfig.py`. That is why there is not tuple for the last dense layer.\n",
    "No let's start with pruning two neurons from the first dense layer. For some reason, that should be determined by some criterion, we would like to prun neurons 0 and 2. Then it's one line of code executing the pruning.\n",
    "Note that we provided `None` for the optimizer since we don't have an optimizer yet. This will come in a subsequent example, when we are also training the model. All weights from the model have been preserved, only leaving out the weights for the two pruned neurons. Please note that we need to re-fetch the grow prun tuples since the network is copied and re-initialized internally. That means the old tuples do refer to outdated layers."
   ],
   "metadata": {
    "collapsed": false
   }
  },
  {
   "cell_type": "code",
   "execution_count": 4,
   "outputs": [
    {
     "name": "stdout",
     "output_type": "stream",
     "text": [
      "INFO structure_adaption.py:253: Weight name x2/bias:0 (filtered to: bias:0) not recognised in x2.\n",
      "DEBUG structure_adaption.py:1168: outer_nodes: []\n",
      "DEBUG structure_adaption.py:1169: current_layer: x0\n",
      "DEBUG structure_adaption.py:1171: outbound layers: ['x1']\n",
      "DEBUG structure_adaption.py:1191: clone and connect: current layer x0 and outbound layer x1\n",
      "DEBUG structure_adaption.py:1102: normal edge detected from x0 to x1\n",
      "DEBUG structure_adaption.py:1104: connecting: x0 to x1\n",
      "DEBUG structure_adaption.py:1168: outer_nodes: []\n",
      "DEBUG structure_adaption.py:1169: current_layer: x1\n",
      "DEBUG structure_adaption.py:1171: outbound layers: ['x2']\n",
      "DEBUG structure_adaption.py:1191: clone and connect: current layer x1 and outbound layer x2\n",
      "DEBUG structure_adaption.py:1102: normal edge detected from x1 to x2\n",
      "DEBUG structure_adaption.py:1104: connecting: x1 to x2\n",
      "DEBUG structure_adaption.py:1168: outer_nodes: []\n",
      "DEBUG structure_adaption.py:1169: current_layer: x2\n",
      "DEBUG structure_adaption.py:1171: outbound layers: ['x3']\n",
      "DEBUG structure_adaption.py:1191: clone and connect: current layer x2 and outbound layer x3\n",
      "DEBUG structure_adaption.py:1102: normal edge detected from x2 to x3\n",
      "DEBUG structure_adaption.py:1104: connecting: x2 to x3\n",
      "DEBUG structure_adaption.py:1168: outer_nodes: []\n",
      "DEBUG structure_adaption.py:1169: current_layer: x3\n",
      "DEBUG structure_adaption.py:1171: outbound layers: ['x4']\n",
      "DEBUG structure_adaption.py:1191: clone and connect: current layer x3 and outbound layer x4\n",
      "DEBUG structure_adaption.py:1102: normal edge detected from x3 to x4\n",
      "DEBUG structure_adaption.py:1104: connecting: x3 to x4\n",
      "DEBUG structure_adaption.py:1168: outer_nodes: []\n",
      "DEBUG structure_adaption.py:1169: current_layer: x4\n",
      "DEBUG structure_adaption.py:1171: outbound layers: []\n",
      "DEBUG structure_adaption.py:1175: found potential new output: x4\n",
      "DEBUG structure_adaption.py:1177: found new output: x4\n",
      "DEBUG structure_adaption.py:449: current node: x0\n",
      "DEBUG structure_adaption.py:449: current node: x1\n",
      "DEBUG structure_adaption.py:449: current node: x2\n",
      "DEBUG structure_adaption.py:449: current node: x3\n",
      "DEBUG structure_adaption.py:449: current node: x4\n",
      "Model: \"model\"\n",
      "_________________________________________________________________\n",
      " Layer (type)                Output Shape              Param #   \n",
      "=================================================================\n",
      " x0 (InputLayer)             [(None, 10)]              0         \n",
      "                                                                 \n",
      " x1 (AdaptionLayer)          (None, 4)                 44        \n",
      "                                                                 \n",
      " x2 (AdaptionLayer)          (None, 2)                 10        \n",
      "                                                                 \n",
      " x3 (AdaptionLayer)          (None, 4)                 12        \n",
      "                                                                 \n",
      " x4 (Softmax)                (None, 4)                 0         \n",
      "                                                                 \n",
      "=================================================================\n",
      "Total params: 66\n",
      "Trainable params: 66\n",
      "Non-trainable params: 0\n",
      "_________________________________________________________________\n"
     ]
    }
   ],
   "source": [
    "first_tuple = gp_tuples[0]\n",
    "parsed_model.prun(first_tuple, [0, 2], None, compile_fn)\n",
    "\n",
    "parsed_model.summary()\n",
    "\n",
    "gp_tuples = parsed_model.grow_prun_tuples\n",
    "second_tuple = gp_tuples[1]"
   ],
   "metadata": {
    "collapsed": false,
    "ExecuteTime": {
     "start_time": "2023-08-27T18:26:01.174488Z",
     "end_time": "2023-08-27T18:26:01.474049Z"
    }
   }
  },
  {
   "cell_type": "markdown",
   "source": [
    "Now we need to add two neurons to the model. We need to specify how we like to initialize the new neurons. This can be done on four ways:\n",
    "- We provide a keras intializer\n",
    "- We provide a numpy array with the matching shape\n",
    "- We provide a tensorflow tensor with the matching shape\n",
    "- We provide `None` and need to verify that there is a default initializer defined for the particular weight of this layer type in the `SupportedLayersConfig.py`\n",
    "\n",
    "We don't provide any initialisation for intermediate layers in this case, because there are none.\n",
    "Observe that now after the summary we have 4 neurons in each adaption layer."
   ],
   "metadata": {
    "collapsed": false
   }
  },
  {
   "cell_type": "code",
   "execution_count": 5,
   "outputs": [
    {
     "name": "stdout",
     "output_type": "stream",
     "text": [
      "INFO structure_adaption.py:208: Weight name x3/bias:0 (filtered to: bias:0) not recognised in x3.\n",
      "DEBUG structure_adaption.py:1168: outer_nodes: []\n",
      "DEBUG structure_adaption.py:1169: current_layer: x0\n",
      "DEBUG structure_adaption.py:1171: outbound layers: ['x1']\n",
      "DEBUG structure_adaption.py:1191: clone and connect: current layer x0 and outbound layer x1\n",
      "DEBUG structure_adaption.py:1102: normal edge detected from x0 to x1\n",
      "DEBUG structure_adaption.py:1104: connecting: x0 to x1\n",
      "DEBUG structure_adaption.py:1168: outer_nodes: []\n",
      "DEBUG structure_adaption.py:1169: current_layer: x1\n",
      "DEBUG structure_adaption.py:1171: outbound layers: ['x2']\n",
      "DEBUG structure_adaption.py:1191: clone and connect: current layer x1 and outbound layer x2\n",
      "DEBUG structure_adaption.py:1102: normal edge detected from x1 to x2\n",
      "DEBUG structure_adaption.py:1104: connecting: x1 to x2\n",
      "DEBUG structure_adaption.py:1168: outer_nodes: []\n",
      "DEBUG structure_adaption.py:1169: current_layer: x2\n",
      "DEBUG structure_adaption.py:1171: outbound layers: ['x3']\n",
      "DEBUG structure_adaption.py:1191: clone and connect: current layer x2 and outbound layer x3\n",
      "DEBUG structure_adaption.py:1102: normal edge detected from x2 to x3\n",
      "DEBUG structure_adaption.py:1104: connecting: x2 to x3\n",
      "DEBUG structure_adaption.py:1168: outer_nodes: []\n",
      "DEBUG structure_adaption.py:1169: current_layer: x3\n",
      "DEBUG structure_adaption.py:1171: outbound layers: ['x4']\n",
      "DEBUG structure_adaption.py:1191: clone and connect: current layer x3 and outbound layer x4\n",
      "DEBUG structure_adaption.py:1102: normal edge detected from x3 to x4\n",
      "DEBUG structure_adaption.py:1104: connecting: x3 to x4\n",
      "DEBUG structure_adaption.py:1168: outer_nodes: []\n",
      "DEBUG structure_adaption.py:1169: current_layer: x4\n",
      "DEBUG structure_adaption.py:1171: outbound layers: []\n",
      "DEBUG structure_adaption.py:1175: found potential new output: x4\n",
      "DEBUG structure_adaption.py:1177: found new output: x4\n",
      "DEBUG structure_adaption.py:449: current node: x0\n",
      "DEBUG structure_adaption.py:449: current node: x1\n",
      "DEBUG structure_adaption.py:449: current node: x2\n",
      "DEBUG structure_adaption.py:449: current node: x3\n",
      "DEBUG structure_adaption.py:449: current node: x4\n",
      "Model: \"model\"\n",
      "_________________________________________________________________\n",
      " Layer (type)                Output Shape              Param #   \n",
      "=================================================================\n",
      " x0 (InputLayer)             [(None, 10)]              0         \n",
      "                                                                 \n",
      " x1 (AdaptionLayer)          (None, 4)                 44        \n",
      "                                                                 \n",
      " x2 (AdaptionLayer)          (None, 4)                 20        \n",
      "                                                                 \n",
      " x3 (AdaptionLayer)          (None, 4)                 20        \n",
      "                                                                 \n",
      " x4 (Softmax)                (None, 4)                 0         \n",
      "                                                                 \n",
      "=================================================================\n",
      "Total params: 84\n",
      "Trainable params: 84\n",
      "Non-trainable params: 0\n",
      "_________________________________________________________________\n"
     ]
    }
   ],
   "source": [
    "init_units_kernel = tf.keras.initializers.RandomUniform(minval=-0.05, maxval=0.05, seed=None)\n",
    "init_units_bias = np.array([2, 2])\n",
    "\n",
    "init_intermediate = None\n",
    "\n",
    "init_inputs = tf.constant([[2, 2, 0.5, 1.5], [1, 2, 3, 0.8]])\n",
    "\n",
    "init_dict = dict(first=[init_units_kernel, init_units_bias], intermediate=[init_intermediate], last=[init_inputs, init_inputs])\n",
    "parsed_model.grow(second_tuple, 2, init_dict, None, compile_fn)\n",
    "parsed_model.summary()"
   ],
   "metadata": {
    "collapsed": false,
    "ExecuteTime": {
     "start_time": "2023-08-27T18:26:01.303205Z",
     "end_time": "2023-08-27T18:26:01.625362Z"
    }
   }
  },
  {
   "cell_type": "markdown",
   "source": [
    "Since this model is not deep enough for us, we need to add a few layers sequentially. Therefore, we define an insert branch. We begin by defining the layers we want to add and attach them to the layer we want to insert them after. Then we provide the layer we want to connect them to again, without doing anything to it. We specify that we want to `insert_sequentially=True` and grow the network. Again all the weights are preserved. If weights may not match while inserting, because e.g. the input shape for a layer changes we can specify `skip_mismatch=True` in order to ignore these mismatches and initialize the layer with its own initializer. Again we provide `None` for the optimizer."
   ],
   "metadata": {
    "collapsed": false
   }
  },
  {
   "cell_type": "code",
   "execution_count": 6,
   "outputs": [
    {
     "name": "stdout",
     "output_type": "stream",
     "text": [
      "DEBUG structure_adaption.py:719: Registered supported layer: x5\n",
      "DEBUG structure_adaption.py:719: Registered supported layer: x6\n",
      "DEBUG structure_adaption.py:1235: remove edge found: from x1 to x2\n",
      "DEBUG structure_adaption.py:1240: add edge found: from: x6 to x2\n",
      "DEBUG structure_adaption.py:1168: outer_nodes: []\n",
      "DEBUG structure_adaption.py:1169: current_layer: x0\n",
      "DEBUG structure_adaption.py:1171: outbound layers: ['x1']\n",
      "DEBUG structure_adaption.py:1191: clone and connect: current layer x0 and outbound layer x1\n",
      "DEBUG structure_adaption.py:1102: normal edge detected from x0 to x1\n",
      "DEBUG structure_adaption.py:1104: connecting: x0 to x1\n",
      "DEBUG structure_adaption.py:1168: outer_nodes: []\n",
      "DEBUG structure_adaption.py:1169: current_layer: x1\n",
      "DEBUG structure_adaption.py:1171: outbound layers: ['x2', 'x5']\n",
      "DEBUG structure_adaption.py:1191: clone and connect: current layer x1 and outbound layer x2\n",
      "DEBUG structure_adaption.py:1066: new add edge layer detected: x6 and remove edge detected from x1 to x2\n",
      "DEBUG structure_adaption.py:1191: clone and connect: current layer x1 and outbound layer x5\n",
      "DEBUG structure_adaption.py:1102: normal edge detected from x1 to x5\n",
      "DEBUG structure_adaption.py:1104: connecting: x1 to x5\n",
      "DEBUG structure_adaption.py:1168: outer_nodes: []\n",
      "DEBUG structure_adaption.py:1169: current_layer: x5\n",
      "DEBUG structure_adaption.py:1171: outbound layers: ['x6']\n",
      "DEBUG structure_adaption.py:1191: clone and connect: current layer x5 and outbound layer x6\n",
      "DEBUG structure_adaption.py:1102: normal edge detected from x5 to x6\n",
      "DEBUG structure_adaption.py:1104: connecting: x5 to x6\n",
      "DEBUG structure_adaption.py:1168: outer_nodes: []\n",
      "DEBUG structure_adaption.py:1169: current_layer: x6\n",
      "DEBUG structure_adaption.py:1171: outbound layers: []\n",
      "DEBUG structure_adaption.py:1175: found potential new output: x6\n",
      "DEBUG structure_adaption.py:1022: connecting full incomplete input for layer x2\n",
      "DEBUG structure_adaption.py:1168: outer_nodes: []\n",
      "DEBUG structure_adaption.py:1169: current_layer: x2\n",
      "DEBUG structure_adaption.py:1171: outbound layers: ['x3']\n",
      "DEBUG structure_adaption.py:1191: clone and connect: current layer x2 and outbound layer x3\n",
      "DEBUG structure_adaption.py:1102: normal edge detected from x2 to x3\n",
      "DEBUG structure_adaption.py:1104: connecting: x2 to x3\n",
      "DEBUG structure_adaption.py:1168: outer_nodes: []\n",
      "DEBUG structure_adaption.py:1169: current_layer: x3\n",
      "DEBUG structure_adaption.py:1171: outbound layers: ['x4']\n",
      "DEBUG structure_adaption.py:1191: clone and connect: current layer x3 and outbound layer x4\n",
      "DEBUG structure_adaption.py:1102: normal edge detected from x3 to x4\n",
      "DEBUG structure_adaption.py:1104: connecting: x3 to x4\n",
      "DEBUG structure_adaption.py:1168: outer_nodes: []\n",
      "DEBUG structure_adaption.py:1169: current_layer: x4\n",
      "DEBUG structure_adaption.py:1171: outbound layers: []\n",
      "DEBUG structure_adaption.py:1175: found potential new output: x4\n",
      "DEBUG structure_adaption.py:1177: found new output: x4\n",
      "DEBUG structure_adaption.py:449: current node: x0\n",
      "DEBUG structure_adaption.py:449: current node: x1\n",
      "DEBUG structure_adaption.py:449: current node: x5\n",
      "DEBUG structure_adaption.py:449: current node: x6\n",
      "DEBUG structure_adaption.py:449: current node: x2\n",
      "DEBUG structure_adaption.py:449: current node: x3\n",
      "DEBUG structure_adaption.py:449: current node: x4\n",
      "Model: \"model\"\n",
      "_________________________________________________________________\n",
      " Layer (type)                Output Shape              Param #   \n",
      "=================================================================\n",
      " x0 (InputLayer)             [(None, 10)]              0         \n",
      "                                                                 \n",
      " x1 (AdaptionLayer)          (None, 4)                 44        \n",
      "                                                                 \n",
      " x5 (AdaptionLayer)          (None, 4)                 20        \n",
      "                                                                 \n",
      " x6 (AdaptionLayer)          (None, 4)                 20        \n",
      "                                                                 \n",
      " x2 (AdaptionLayer)          (None, 4)                 20        \n",
      "                                                                 \n",
      " x3 (AdaptionLayer)          (None, 4)                 20        \n",
      "                                                                 \n",
      " x4 (Softmax)                (None, 4)                 0         \n",
      "                                                                 \n",
      "=================================================================\n",
      "Total params: 124\n",
      "Trainable params: 124\n",
      "Non-trainable params: 0\n",
      "_________________________________________________________________\n"
     ]
    }
   ],
   "source": [
    "start_layer = parsed_model.internal_model.layers[1]\n",
    "new_layer1 = tf.keras.layers.Dense(units=4, activation='relu', name='x5')\n",
    "output_nl1 = new_layer1(start_layer.output)\n",
    "new_layer2 = tf.keras.layers.Dense(units=4, activation='relu', name='x6')\n",
    "output_nl2 = new_layer2(output_nl1)\n",
    "end_layer = parsed_model.internal_model.layers[2]\n",
    "\n",
    "insert_branch = structure_adaption.InsertBranch([start_layer, new_layer1, new_layer2], end_layer)\n",
    "\n",
    "parsed_model.grow_branch(insert_branch, None, compile_fn, insert_sequential=True)\n",
    "parsed_model.summary()"
   ],
   "metadata": {
    "collapsed": false,
    "ExecuteTime": {
     "start_time": "2023-08-27T18:26:01.462239Z",
     "end_time": "2023-08-27T18:26:01.720347Z"
    }
   }
  },
  {
   "cell_type": "markdown",
   "source": [
    "Now we changed our mind, because the model is running on resource constrained hardware. The layers x2 and x3 need to be removed. Because we want to leave a connection after the pruning, we specify `leave_residual=True`."
   ],
   "metadata": {
    "collapsed": false
   }
  },
  {
   "cell_type": "code",
   "execution_count": 7,
   "outputs": [
    {
     "name": "stdout",
     "output_type": "stream",
     "text": [
      "DEBUG structure_adaption.py:1235: remove edge found: from x3 to x4\n",
      "DEBUG structure_adaption.py:1235: remove edge found: from x6 to x2\n",
      "DEBUG structure_adaption.py:1235: remove edge found: from x2 to x3\n",
      "DEBUG structure_adaption.py:1240: add edge found: from: x6 to x4\n",
      "DEBUG structure_adaption.py:1168: outer_nodes: []\n",
      "DEBUG structure_adaption.py:1169: current_layer: x0\n",
      "DEBUG structure_adaption.py:1171: outbound layers: ['x1']\n",
      "DEBUG structure_adaption.py:1191: clone and connect: current layer x0 and outbound layer x1\n",
      "DEBUG structure_adaption.py:1102: normal edge detected from x0 to x1\n",
      "DEBUG structure_adaption.py:1104: connecting: x0 to x1\n",
      "DEBUG structure_adaption.py:1168: outer_nodes: []\n",
      "DEBUG structure_adaption.py:1169: current_layer: x1\n",
      "DEBUG structure_adaption.py:1171: outbound layers: ['x5']\n",
      "DEBUG structure_adaption.py:1191: clone and connect: current layer x1 and outbound layer x5\n",
      "DEBUG structure_adaption.py:1102: normal edge detected from x1 to x5\n",
      "DEBUG structure_adaption.py:1104: connecting: x1 to x5\n",
      "DEBUG structure_adaption.py:1168: outer_nodes: []\n",
      "DEBUG structure_adaption.py:1169: current_layer: x5\n",
      "DEBUG structure_adaption.py:1171: outbound layers: ['x6']\n",
      "DEBUG structure_adaption.py:1191: clone and connect: current layer x5 and outbound layer x6\n",
      "DEBUG structure_adaption.py:1102: normal edge detected from x5 to x6\n",
      "DEBUG structure_adaption.py:1104: connecting: x5 to x6\n",
      "DEBUG structure_adaption.py:1168: outer_nodes: []\n",
      "DEBUG structure_adaption.py:1169: current_layer: x6\n",
      "DEBUG structure_adaption.py:1171: outbound layers: ['x2']\n",
      "DEBUG structure_adaption.py:1191: clone and connect: current layer x6 and outbound layer x2\n",
      "DEBUG structure_adaption.py:1084: remove edge detected from x6 to x2\n",
      "DEBUG structure_adaption.py:1168: outer_nodes: []\n",
      "DEBUG structure_adaption.py:1169: current_layer: x2\n",
      "DEBUG structure_adaption.py:1171: outbound layers: ['x3']\n",
      "DEBUG structure_adaption.py:1191: clone and connect: current layer x2 and outbound layer x3\n",
      "DEBUG structure_adaption.py:1084: remove edge detected from x2 to x3\n",
      "DEBUG structure_adaption.py:1168: outer_nodes: []\n",
      "DEBUG structure_adaption.py:1169: current_layer: x3\n",
      "DEBUG structure_adaption.py:1171: outbound layers: ['x4']\n",
      "DEBUG structure_adaption.py:1191: clone and connect: current layer x3 and outbound layer x4\n",
      "DEBUG structure_adaption.py:1066: new add edge layer detected: x6 and remove edge detected from x3 to x4\n",
      "DEBUG structure_adaption.py:1022: connecting full incomplete input for layer x4\n",
      "DEBUG structure_adaption.py:1168: outer_nodes: []\n",
      "DEBUG structure_adaption.py:1169: current_layer: x4\n",
      "DEBUG structure_adaption.py:1171: outbound layers: []\n",
      "DEBUG structure_adaption.py:1175: found potential new output: x4\n",
      "DEBUG structure_adaption.py:1177: found new output: x4\n",
      "DEBUG structure_adaption.py:449: current node: x0\n",
      "DEBUG structure_adaption.py:449: current node: x1\n",
      "DEBUG structure_adaption.py:449: current node: x5\n",
      "DEBUG structure_adaption.py:449: current node: x6\n",
      "DEBUG structure_adaption.py:449: current node: x4\n",
      "Model: \"model\"\n",
      "_________________________________________________________________\n",
      " Layer (type)                Output Shape              Param #   \n",
      "=================================================================\n",
      " x0 (InputLayer)             [(None, 10)]              0         \n",
      "                                                                 \n",
      " x1 (AdaptionLayer)          (None, 4)                 44        \n",
      "                                                                 \n",
      " x5 (AdaptionLayer)          (None, 4)                 20        \n",
      "                                                                 \n",
      " x6 (AdaptionLayer)          (None, 4)                 20        \n",
      "                                                                 \n",
      " x4 (Softmax)                (None, 4)                 0         \n",
      "                                                                 \n",
      "=================================================================\n",
      "Total params: 84\n",
      "Trainable params: 84\n",
      "Non-trainable params: 0\n",
      "_________________________________________________________________\n"
     ]
    }
   ],
   "source": [
    "sequential_branches = parsed_model.sequential_branches\n",
    "sequential_branch_layers = sequential_branches[0].layers\n",
    "start_layer = sequential_branch_layers[3]  # layer x6\n",
    "rm_l1 = sequential_branch_layers[4]\n",
    "rm_l2 = sequential_branch_layers[5]\n",
    "end_layer = sequential_branch_layers[6]\n",
    "prun_branch = structure_adaption.Branch([start_layer, rm_l1, rm_l2, end_layer])\n",
    "parsed_model.prun_branch(prun_branch, None, compile_fn, leave_residual=True)\n",
    "parsed_model.summary()"
   ],
   "metadata": {
    "collapsed": false,
    "ExecuteTime": {
     "start_time": "2023-08-27T18:26:01.650368Z",
     "end_time": "2023-08-27T18:26:01.841290Z"
    }
   }
  },
  {
   "cell_type": "markdown",
   "source": [
    "As we can see, the layers have been successfully removed.\n",
    "We have removed and added neurons to individual layers. And we have removed and inserted layers sequentially. For more details on limitations and caveats consult the documentation and the other examples."
   ],
   "metadata": {
    "collapsed": false
   }
  }
 ],
 "metadata": {
  "kernelspec": {
   "display_name": "Python 3",
   "language": "python",
   "name": "python3"
  },
  "language_info": {
   "codemirror_mode": {
    "name": "ipython",
    "version": 2
   },
   "file_extension": ".py",
   "mimetype": "text/x-python",
   "name": "python",
   "nbconvert_exporter": "python",
   "pygments_lexer": "ipython2",
   "version": "2.7.6"
  }
 },
 "nbformat": 4,
 "nbformat_minor": 0
}
